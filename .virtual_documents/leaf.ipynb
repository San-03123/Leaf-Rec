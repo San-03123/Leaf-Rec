import tensorflow as tf
from tensorflow.keras.preprocessing.image import ImageDataGenerator
from tensorflow.keras.models import Sequential
from tensorflow.keras.layers import Conv2D, MaxPooling2D, Flatten, Dense, Dropout
from tensorflow.keras.optimizers import Adam


base_dir = 'E:/LEAF RECO/de'  # Replace with your base directory path
train_dir = f'{base_dir}/Train'
validation_dir = f'{base_dir}/Validation'
test_dir = f'{base_dir}/Test'


# Image dimensions
img_height, img_width = 224, 224
batch_size = 32

# Data augmentation and normalization for training
train_datagen = ImageDataGenerator(
    rescale=1./255,
    rotation_range=20,
    width_shift_range=0.2,
    height_shift_range=0.2,
    shear_range=0.2,
    zoom_range=0.2,
    horizontal_flip=True,
    fill_mode='nearest'
)

# Only rescale for validation and testing
validation_datagen = ImageDataGenerator(rescale=1./255)
test_datagen = ImageDataGenerator(rescale=1./255)

# Load datasets
train_generator = train_datagen.flow_from_directory(
    train_dir,
    target_size=(img_height, img_width),
    batch_size=batch_size,
    class_mode='categorical'
)

validation_generator = validation_datagen.flow_from_directory(
    validation_dir,
    target_size=(img_height, img_width),
    batch_size=batch_size,
    class_mode='categorical'
)

test_generator = test_datagen.flow_from_directory(
    test_dir,
    target_size=(img_height, img_width),
    batch_size=batch_size,
    class_mode='categorical'
)



# Define the model
model = Sequential([
    Conv2D(32, (3, 3), activation='relu', input_shape=(img_height, img_width, 3)),
    MaxPooling2D((2, 2)),
    Conv2D(64, (3, 3), activation='relu'),
    MaxPooling2D((2, 2)),
    Conv2D(128, (3, 3), activation='relu'),
    MaxPooling2D((2, 2)),
    Flatten(),
    Dense(128, activation='relu'),
    Dropout(0.5),
    Dense(len(train_generator.class_indices), activation='softmax')
])

# Compile the model
model.compile(optimizer=Adam(learning_rate=0.001),
              loss='categorical_crossentropy',
              metrics=['accuracy'])

# Train the model
model.fit(
    train_generator,
    epochs=30,
    validation_data=validation_generator
)

# Evaluate the model on the test set
test_loss, test_acc = model.evaluate(test_generator)
print(f"Test accuracy: {test_acc}")


model.summary()


model.save('leaf_classfi.h5')


from flask import Flask, request, jsonify
from tensorflow.keras.models import load_model
from tensorflow.keras.preprocessing.image import img_to_array, load_img
import numpy as np

# Initialize the Flask app
app = Flask(__name__)

# Load the trained model
model = load_model('leaf_classfi.h5')

# Define the class labels (make sure these match your model's output classes)
class_labels = ['aloevera', 'banana', 'cucumber', 'eggplant', 'papaya']

# Define a route for predictions
@app.route('/predict', methods=['POST'])
def predict():
    # Check if an image file is part of the POST request
    if 'file' not in request.files:
        return jsonify({"error": "No file provided"}), 400

    file = request.files['file']
    if file.filename == '':
        return jsonify({"error": "No file selected"}), 400

    # Load and preprocess the image
    img = load_img(file, target_size=(224, 224))
    img = img_to_array(img)
    img = np.expand_dims(img, axis=0)
    img = img / 255.0  # Normalize the image

    # Make a prediction
    prediction = model.predict(img)
    predicted_class = class_labels[np.argmax(prediction)]

    # Return the prediction as a JSON response
    return jsonify({"class": predicted_class, "confidence": float(np.max(prediction))})

# Run the app
if __name__ == '__main__':
    try:
        app.run(debug=True)
    except Exception as e:
        logging.error("An error occurred while running the Flask app", exc_info=True)


from flask import Flask, request, jsonify

app = Flask(__name__)

@app.route('/predict', methods=['POST'])
def predict():
    return jsonify({"message": "This is a test endpoint"})

if __name__ == '__main__':
    try:
        app.run(debug=True)
    except Exception as e:
        logging.error("An error occurred while running the Flask app", exc_info=True)




